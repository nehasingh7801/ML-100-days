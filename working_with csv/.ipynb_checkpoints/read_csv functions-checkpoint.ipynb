{
 "cells": [
  {
   "cell_type": "markdown",
   "id": "4ed99ac0",
   "metadata": {},
   "source": [
    "## 1. Importing pandas"
   ]
  },
  {
   "cell_type": "code",
   "execution_count": 3,
   "id": "74c57661",
   "metadata": {},
   "outputs": [],
   "source": [
    "import pandas as pd"
   ]
  },
  {
   "cell_type": "markdown",
   "id": "c9e55a31",
   "metadata": {},
   "source": [
    "## 2. Opening a local csv file"
   ]
  },
  {
   "cell_type": "code",
   "execution_count": 4,
   "id": "8ffb8960",
   "metadata": {},
   "outputs": [],
   "source": [
    "df=pd.read_csv('aug_train.csv')"
   ]
  },
  {
   "cell_type": "markdown",
   "id": "304f0c33",
   "metadata": {},
   "source": [
    "## 3. Opening a csv file from an URL"
   ]
  },
  {
   "cell_type": "code",
   "execution_count": null,
   "id": "1f5b6865",
   "metadata": {},
   "outputs": [],
   "source": [
    "import requests\n",
    "from io import StringIO\n",
    "\n",
    "url = \"https://raw.githubusercontent.com/cs109/2014_data/master/countries.csv\"\n",
    "headers = {\"User-Agent\": \"Mozilla/5.0 (Macintosh; Intel Mac OS X 10.14; rv:66.0) Gecko/20100101 Firefox/66.0\"}\n",
    "req = requests.get(url, headers=headers)\n",
    "data = StringIO(req.text)\n",
    "\n",
    "pd.read_csv(data)"
   ]
  }
 ],
 "metadata": {
  "kernelspec": {
   "display_name": "Python 3",
   "language": "python",
   "name": "python3"
  },
  "language_info": {
   "codemirror_mode": {
    "name": "ipython",
    "version": 3
   },
   "file_extension": ".py",
   "mimetype": "text/x-python",
   "name": "python",
   "nbconvert_exporter": "python",
   "pygments_lexer": "ipython3",
   "version": "3.8.8"
  }
 },
 "nbformat": 4,
 "nbformat_minor": 5
}
