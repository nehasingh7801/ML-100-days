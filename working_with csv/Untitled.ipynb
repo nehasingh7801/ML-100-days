{
 "cells": [
  {
   "cell_type": "markdown",
   "id": "664f4980",
   "metadata": {},
   "source": [
    "## 1. Importing pandas"
   ]
  },
  {
   "cell_type": "code",
   "execution_count": 3,
   "id": "bf4ede42",
   "metadata": {},
   "outputs": [],
   "source": [
    "import pandas as pd"
   ]
  },
  {
   "cell_type": "markdown",
   "id": "da627d1b",
   "metadata": {},
   "source": [
    "## 2. Opening a local csv file"
   ]
  },
  {
   "cell_type": "code",
   "execution_count": 4,
   "id": "06c495e8",
   "metadata": {},
   "outputs": [],
   "source": [
    "df=pd.read_csv('aug_train.csv')"
   ]
  },
  {
   "cell_type": "markdown",
   "id": "47558dad",
   "metadata": {},
   "source": [
    "## 3. Opening a csv file from an URL"
   ]
  },
  {
   "cell_type": "code",
   "execution_count": null,
   "id": "f3c2da68",
   "metadata": {},
   "outputs": [],
   "source": []
  }
 ],
 "metadata": {
  "kernelspec": {
   "display_name": "Python 3",
   "language": "python",
   "name": "python3"
  },
  "language_info": {
   "codemirror_mode": {
    "name": "ipython",
    "version": 3
   },
   "file_extension": ".py",
   "mimetype": "text/x-python",
   "name": "python",
   "nbconvert_exporter": "python",
   "pygments_lexer": "ipython3",
   "version": "3.8.8"
  }
 },
 "nbformat": 4,
 "nbformat_minor": 5
}
